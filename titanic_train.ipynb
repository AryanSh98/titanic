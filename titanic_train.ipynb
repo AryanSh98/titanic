{
 "cells": [
  {
   "cell_type": "code",
   "execution_count": 1,
   "metadata": {},
   "outputs": [],
   "source": [
    "import pandas as pd\n",
    "def clean_data(data_path, train_data=True):\n",
    "    data = pd.read_csv(data_path)\n",
    "\n",
    "    # add family column\n",
    "    for i in range(data.shape[0]):\n",
    "        data.at[i, 'Family'] = data.at[i, 'Name'].split(', ')[0]\n",
    "\n",
    "    #add deck feature\n",
    "    for i in range(data.shape[0]):\n",
    "        if pd.isnull(data.at[i, 'Cabin']):\n",
    "            data.at[i, 'Deck'] = 'U'\n",
    "        else:\n",
    "            data.at[i, 'Deck'] = list(data.at[i, 'Cabin'])[0]\n",
    "    #fill missing values in age column\n",
    "    data['Age'] = data['Age'].fillna(data['Age'].mean())\n",
    "    data.fillna('', inplace=True)\n",
    "    #add family members feature\n",
    "    data['FamilyMembers'] = data.groupby('Family')['Family'].transform('count')\n",
    "    #data['PassengerId'] = data['PassengerId'].astype('str')\n",
    "    if train_data:\n",
    "        data = data[['PassengerId', 'Family', 'Pclass',\n",
    "                     'Sex', 'Age', 'FamilyMembers',\n",
    "                     'Deck', 'Embarked', 'Survived']]\n",
    "    else:\n",
    "        data = data[['PassengerId', 'Family', 'Pclass',\n",
    "                     'Sex', 'Age', 'FamilyMembers', 'Embarked',\n",
    "                     'Deck']]\n",
    "    return data\n"
   ]
  },
  {
   "cell_type": "code",
   "execution_count": 2,
   "metadata": {},
   "outputs": [],
   "source": [
    "data = clean_data('train.csv')\n",
    "train_df = data.sample(frac=0.9,random_state=0)\n",
    "test_df = data.drop(train_df.index)\n",
    "train_labels = train_df.pop('Survived')\n",
    "test_labels = test_df.pop('Survived')\n",
    "train_y = train_labels\n",
    "test_y = test_labels\n",
    "train_x = train_df\n",
    "test_x = test_df"
   ]
  },
  {
   "cell_type": "code",
   "execution_count": 3,
   "metadata": {},
   "outputs": [
    {
     "data": {
      "text/html": [
       "<div>\n",
       "<style scoped>\n",
       "    .dataframe tbody tr th:only-of-type {\n",
       "        vertical-align: middle;\n",
       "    }\n",
       "\n",
       "    .dataframe tbody tr th {\n",
       "        vertical-align: top;\n",
       "    }\n",
       "\n",
       "    .dataframe thead th {\n",
       "        text-align: right;\n",
       "    }\n",
       "</style>\n",
       "<table border=\"1\" class=\"dataframe\">\n",
       "  <thead>\n",
       "    <tr style=\"text-align: right;\">\n",
       "      <th></th>\n",
       "      <th>PassengerId</th>\n",
       "      <th>Family</th>\n",
       "      <th>Pclass</th>\n",
       "      <th>Sex</th>\n",
       "      <th>Age</th>\n",
       "      <th>FamilyMembers</th>\n",
       "      <th>Deck</th>\n",
       "      <th>Embarked</th>\n",
       "    </tr>\n",
       "  </thead>\n",
       "  <tbody>\n",
       "    <tr>\n",
       "      <th>495</th>\n",
       "      <td>496</td>\n",
       "      <td>Yousseff</td>\n",
       "      <td>3</td>\n",
       "      <td>male</td>\n",
       "      <td>29.699118</td>\n",
       "      <td>1</td>\n",
       "      <td>U</td>\n",
       "      <td>C</td>\n",
       "    </tr>\n",
       "    <tr>\n",
       "      <th>648</th>\n",
       "      <td>649</td>\n",
       "      <td>Willey</td>\n",
       "      <td>3</td>\n",
       "      <td>male</td>\n",
       "      <td>29.699118</td>\n",
       "      <td>1</td>\n",
       "      <td>U</td>\n",
       "      <td>S</td>\n",
       "    </tr>\n",
       "    <tr>\n",
       "      <th>278</th>\n",
       "      <td>279</td>\n",
       "      <td>Rice</td>\n",
       "      <td>3</td>\n",
       "      <td>male</td>\n",
       "      <td>7.000000</td>\n",
       "      <td>5</td>\n",
       "      <td>U</td>\n",
       "      <td>Q</td>\n",
       "    </tr>\n",
       "    <tr>\n",
       "      <th>31</th>\n",
       "      <td>32</td>\n",
       "      <td>Spencer</td>\n",
       "      <td>1</td>\n",
       "      <td>female</td>\n",
       "      <td>29.699118</td>\n",
       "      <td>1</td>\n",
       "      <td>B</td>\n",
       "      <td>C</td>\n",
       "    </tr>\n",
       "    <tr>\n",
       "      <th>255</th>\n",
       "      <td>256</td>\n",
       "      <td>Touma</td>\n",
       "      <td>3</td>\n",
       "      <td>female</td>\n",
       "      <td>29.000000</td>\n",
       "      <td>1</td>\n",
       "      <td>U</td>\n",
       "      <td>C</td>\n",
       "    </tr>\n",
       "  </tbody>\n",
       "</table>\n",
       "</div>"
      ],
      "text/plain": [
       "     PassengerId    Family  Pclass     Sex        Age  FamilyMembers Deck  \\\n",
       "495          496  Yousseff       3    male  29.699118              1    U   \n",
       "648          649    Willey       3    male  29.699118              1    U   \n",
       "278          279      Rice       3    male   7.000000              5    U   \n",
       "31            32   Spencer       1  female  29.699118              1    B   \n",
       "255          256     Touma       3  female  29.000000              1    U   \n",
       "\n",
       "    Embarked  \n",
       "495        C  \n",
       "648        S  \n",
       "278        Q  \n",
       "31         C  \n",
       "255        C  "
      ]
     },
     "execution_count": 3,
     "metadata": {},
     "output_type": "execute_result"
    }
   ],
   "source": [
    "train_df.head()"
   ]
  },
  {
   "cell_type": "code",
   "execution_count": 4,
   "metadata": {},
   "outputs": [
    {
     "name": "stdout",
     "output_type": "stream",
     "text": [
      "INFO:tensorflow:Using default config.\n",
      "INFO:tensorflow:Using config: {'_model_dir': 'C:\\\\Users\\\\Aryan\\\\Source\\\\Kaggle\\\\titanic\\\\titanic_model\\\\test', '_tf_random_seed': None, '_save_summary_steps': 100, '_save_checkpoints_steps': None, '_save_checkpoints_secs': 600, '_session_config': allow_soft_placement: true\n",
      "graph_options {\n",
      "  rewrite_options {\n",
      "    meta_optimizer_iterations: ONE\n",
      "  }\n",
      "}\n",
      ", '_keep_checkpoint_max': 5, '_keep_checkpoint_every_n_hours': 10000, '_log_step_count_steps': 100, '_train_distribute': None, '_device_fn': None, '_protocol': None, '_eval_distribute': None, '_experimental_distribute': None, '_service': None, '_cluster_spec': <tensorflow.python.training.server_lib.ClusterSpec object at 0x0000026A0BDF3128>, '_task_type': 'worker', '_task_id': 0, '_global_id_in_cluster': 0, '_master': '', '_evaluation_master': '', '_is_chief': True, '_num_ps_replicas': 0, '_num_worker_replicas': 1}\n",
      "INFO:tensorflow:Calling model_fn.\n",
      "WARNING:tensorflow:From C:\\Users\\Aryan\\Anaconda3\\envs\\python36\\lib\\site-packages\\tensorflow\\python\\ops\\sparse_ops.py:1165: sparse_to_dense (from tensorflow.python.ops.sparse_ops) is deprecated and will be removed in a future version.\n",
      "Instructions for updating:\n",
      "Create a `tf.sparse.SparseTensor` and use `tf.sparse.to_dense` instead.\n",
      "INFO:tensorflow:Done calling model_fn.\n",
      "INFO:tensorflow:Create CheckpointSaverHook.\n",
      "INFO:tensorflow:Graph was finalized.\n",
      "INFO:tensorflow:Running local_init_op.\n",
      "INFO:tensorflow:Done running local_init_op.\n",
      "INFO:tensorflow:Saving checkpoints for 0 into C:\\Users\\Aryan\\Source\\Kaggle\\titanic\\titanic_model\\test\\model.ckpt.\n",
      "INFO:tensorflow:loss = 34.366936, step = 1\n",
      "INFO:tensorflow:global_step/sec: 204.082\n",
      "INFO:tensorflow:loss = 11.734521, step = 101 (0.491 sec)\n",
      "INFO:tensorflow:global_step/sec: 279.297\n",
      "INFO:tensorflow:loss = 7.8023095, step = 201 (0.358 sec)\n",
      "INFO:tensorflow:global_step/sec: 294.904\n",
      "INFO:tensorflow:loss = 6.179416, step = 301 (0.339 sec)\n",
      "INFO:tensorflow:global_step/sec: 290.63\n",
      "INFO:tensorflow:loss = 5.017356, step = 401 (0.344 sec)\n",
      "INFO:tensorflow:global_step/sec: 280.076\n",
      "INFO:tensorflow:loss = 4.39504, step = 501 (0.357 sec)\n",
      "INFO:tensorflow:global_step/sec: 283.241\n",
      "INFO:tensorflow:loss = 3.5548255, step = 601 (0.353 sec)\n",
      "INFO:tensorflow:global_step/sec: 286.478\n",
      "INFO:tensorflow:loss = 3.3975465, step = 701 (0.348 sec)\n",
      "INFO:tensorflow:global_step/sec: 288.955\n",
      "INFO:tensorflow:loss = 4.2733526, step = 801 (0.346 sec)\n",
      "INFO:tensorflow:global_step/sec: 296.649\n",
      "INFO:tensorflow:loss = 3.8898795, step = 901 (0.338 sec)\n",
      "INFO:tensorflow:global_step/sec: 285.662\n",
      "INFO:tensorflow:loss = 3.934779, step = 1001 (0.350 sec)\n",
      "INFO:tensorflow:global_step/sec: 288.954\n",
      "INFO:tensorflow:loss = 7.035988, step = 1101 (0.346 sec)\n",
      "INFO:tensorflow:global_step/sec: 290.631\n",
      "INFO:tensorflow:loss = 2.4314275, step = 1201 (0.344 sec)\n",
      "INFO:tensorflow:global_step/sec: 286.478\n",
      "INFO:tensorflow:loss = 0.043566912, step = 1301 (0.348 sec)\n",
      "INFO:tensorflow:global_step/sec: 290.63\n",
      "INFO:tensorflow:loss = 0.010555042, step = 1401 (0.345 sec)\n",
      "INFO:tensorflow:global_step/sec: 299.305\n",
      "INFO:tensorflow:loss = 0.003970702, step = 1501 (0.334 sec)\n",
      "INFO:tensorflow:global_step/sec: 281.65\n",
      "INFO:tensorflow:loss = 0.0048139156, step = 1601 (0.355 sec)\n",
      "INFO:tensorflow:global_step/sec: 284.044\n",
      "INFO:tensorflow:loss = 0.0094713215, step = 1701 (0.352 sec)\n",
      "INFO:tensorflow:global_step/sec: 287.299\n",
      "INFO:tensorflow:loss = 0.008999372, step = 1801 (0.348 sec)\n",
      "INFO:tensorflow:global_step/sec: 288.955\n",
      "INFO:tensorflow:loss = 0.0046087224, step = 1901 (0.345 sec)\n",
      "INFO:tensorflow:global_step/sec: 292.324\n",
      "INFO:tensorflow:loss = 0.011417022, step = 2001 (0.343 sec)\n",
      "INFO:tensorflow:global_step/sec: 282.443\n",
      "INFO:tensorflow:loss = 0.004035107, step = 2101 (0.354 sec)\n",
      "INFO:tensorflow:global_step/sec: 282.443\n",
      "INFO:tensorflow:loss = 0.004387489, step = 2201 (0.354 sec)\n",
      "INFO:tensorflow:global_step/sec: 287.299\n",
      "INFO:tensorflow:loss = 0.006646293, step = 2301 (0.348 sec)\n",
      "INFO:tensorflow:global_step/sec: 287.299\n",
      "INFO:tensorflow:loss = 0.006596146, step = 2401 (0.348 sec)\n",
      "INFO:tensorflow:global_step/sec: 282.443\n",
      "INFO:tensorflow:loss = 0.006265879, step = 2501 (0.353 sec)\n",
      "INFO:tensorflow:global_step/sec: 276.98\n",
      "INFO:tensorflow:loss = 0.0051805824, step = 2601 (0.362 sec)\n",
      "INFO:tensorflow:global_step/sec: 288.956\n",
      "INFO:tensorflow:loss = 0.0063765775, step = 2701 (0.345 sec)\n",
      "INFO:tensorflow:global_step/sec: 276.982\n",
      "INFO:tensorflow:loss = 0.0076823863, step = 2801 (0.362 sec)\n",
      "INFO:tensorflow:global_step/sec: 291.475\n",
      "INFO:tensorflow:loss = 0.0063513923, step = 2901 (0.343 sec)\n",
      "INFO:tensorflow:global_step/sec: 287.299\n",
      "INFO:tensorflow:loss = 0.006148497, step = 3001 (0.347 sec)\n",
      "INFO:tensorflow:global_step/sec: 287.299\n",
      "INFO:tensorflow:loss = 0.006264791, step = 3101 (0.349 sec)\n",
      "INFO:tensorflow:global_step/sec: 294.904\n",
      "INFO:tensorflow:loss = 0.0041719466, step = 3201 (0.338 sec)\n",
      "INFO:tensorflow:global_step/sec: 289.79\n",
      "INFO:tensorflow:loss = 0.0072710193, step = 3301 (0.346 sec)\n",
      "INFO:tensorflow:global_step/sec: 284.043\n",
      "INFO:tensorflow:loss = 0.0054335673, step = 3401 (0.352 sec)\n",
      "INFO:tensorflow:global_step/sec: 284.85\n",
      "INFO:tensorflow:loss = 0.0042463997, step = 3501 (0.350 sec)\n",
      "INFO:tensorflow:global_step/sec: 283.241\n",
      "INFO:tensorflow:loss = 0.003845617, step = 3601 (0.354 sec)\n",
      "INFO:tensorflow:global_step/sec: 288.955\n",
      "INFO:tensorflow:loss = 0.006906859, step = 3701 (0.346 sec)\n",
      "INFO:tensorflow:global_step/sec: 295.774\n",
      "INFO:tensorflow:loss = 0.004995513, step = 3801 (0.338 sec)\n",
      "INFO:tensorflow:global_step/sec: 286.478\n",
      "INFO:tensorflow:loss = 0.006326333, step = 3901 (0.349 sec)\n",
      "INFO:tensorflow:global_step/sec: 286.478\n",
      "INFO:tensorflow:loss = 0.005698422, step = 4001 (0.348 sec)\n",
      "INFO:tensorflow:global_step/sec: 289.79\n",
      "INFO:tensorflow:loss = 0.004097857, step = 4101 (0.346 sec)\n",
      "INFO:tensorflow:global_step/sec: 286.478\n",
      "INFO:tensorflow:loss = 0.0031328038, step = 4201 (0.349 sec)\n",
      "INFO:tensorflow:global_step/sec: 289.79\n",
      "INFO:tensorflow:loss = 0.005065555, step = 4301 (0.345 sec)\n",
      "INFO:tensorflow:global_step/sec: 293.877\n",
      "INFO:tensorflow:loss = 0.004913628, step = 4401 (0.340 sec)\n",
      "INFO:tensorflow:global_step/sec: 284.043\n",
      "INFO:tensorflow:loss = 0.005096818, step = 4501 (0.352 sec)\n",
      "INFO:tensorflow:Saving checkpoints for 4501 into C:\\Users\\Aryan\\Source\\Kaggle\\titanic\\titanic_model\\test\\model.ckpt.\n",
      "INFO:tensorflow:Loss for final step: 0.005096818.\n"
     ]
    },
    {
     "data": {
      "text/plain": [
       "<tensorflow.python.estimator.canned.dnn.DNNClassifier at 0x26a09a5ae48>"
      ]
     },
     "execution_count": 4,
     "metadata": {},
     "output_type": "execute_result"
    }
   ],
   "source": [
    "import titanic_estimator\n",
    "\n",
    "titanic_estimator.classifier.train(\n",
    "    input_fn=lambda: titanic_estimator.input_fn(train_x, train_y, batch_size=50),\n",
    "    max_steps = 4501\n",
    ")"
   ]
  },
  {
   "cell_type": "code",
   "execution_count": 5,
   "metadata": {},
   "outputs": [
    {
     "name": "stdout",
     "output_type": "stream",
     "text": [
      "INFO:tensorflow:Calling model_fn.\n",
      "WARNING:tensorflow:Trapezoidal rule is known to produce incorrect PR-AUCs; please switch to \"careful_interpolation\" instead.\n",
      "WARNING:tensorflow:Trapezoidal rule is known to produce incorrect PR-AUCs; please switch to \"careful_interpolation\" instead.\n",
      "INFO:tensorflow:Done calling model_fn.\n",
      "INFO:tensorflow:Starting evaluation at 2019-02-26-07:27:59\n",
      "INFO:tensorflow:Graph was finalized.\n",
      "INFO:tensorflow:Restoring parameters from C:\\Users\\Aryan\\Source\\Kaggle\\titanic\\titanic_model\\test\\model.ckpt-4501\n",
      "INFO:tensorflow:Running local_init_op.\n",
      "INFO:tensorflow:Done running local_init_op.\n",
      "INFO:tensorflow:Finished evaluation at 2019-02-26-07:27:59\n",
      "INFO:tensorflow:Saving dict for global step 4501: accuracy = 0.8426966, accuracy_baseline = 0.5280899, auc = 0.8779128, auc_precision_recall = 0.90474355, average_loss = 1.3729471, global_step = 4501, label/mean = 0.47191012, loss = 61.096146, precision = 0.8684211, prediction/mean = 0.42663875, recall = 0.78571427\n",
      "INFO:tensorflow:Saving 'checkpoint_path' summary for global step 4501: C:\\Users\\Aryan\\Source\\Kaggle\\titanic\\titanic_model\\test\\model.ckpt-4501\n",
      "{'accuracy': 0.8426966, 'accuracy_baseline': 0.5280899, 'auc': 0.8779128, 'auc_precision_recall': 0.90474355, 'average_loss': 1.3729471, 'label/mean': 0.47191012, 'loss': 61.096146, 'precision': 0.8684211, 'prediction/mean': 0.42663875, 'recall': 0.78571427, 'global_step': 4501}\n",
      "\n",
      "Test set accuracy: 0.843\n",
      "\n"
     ]
    }
   ],
   "source": [
    "import titanic_estimator\n",
    "eval_result = titanic_estimator.classifier.evaluate(\n",
    "    input_fn=lambda: titanic_estimator.eval_input_fn(test_x, test_y, batch_size=50))\n",
    "print(eval_result)\n",
    "print('\\nTest set accuracy: {accuracy:0.3f}\\n'.format(**eval_result))"
   ]
  },
  {
   "cell_type": "code",
   "execution_count": 6,
   "metadata": {},
   "outputs": [],
   "source": [
    "#read test dataset\n",
    "test_data_path = 'test.csv'\n",
    "test = clean_data(test_data_path, train_data=False)"
   ]
  },
  {
   "cell_type": "code",
   "execution_count": 7,
   "metadata": {},
   "outputs": [],
   "source": [
    "predictions = titanic_estimator.classifier.predict(\n",
    "    input_fn=lambda: titanic_estimator.eval_input_fn(test, labels=None, batch_size=1000)\n",
    ")"
   ]
  },
  {
   "cell_type": "code",
   "execution_count": 8,
   "metadata": {},
   "outputs": [
    {
     "name": "stdout",
     "output_type": "stream",
     "text": [
      "INFO:tensorflow:Calling model_fn.\n",
      "INFO:tensorflow:Done calling model_fn.\n",
      "INFO:tensorflow:Graph was finalized.\n",
      "INFO:tensorflow:Restoring parameters from C:\\Users\\Aryan\\Source\\Kaggle\\titanic\\titanic_model\\test\\model.ckpt-4501\n",
      "INFO:tensorflow:Running local_init_op.\n",
      "INFO:tensorflow:Done running local_init_op.\n"
     ]
    }
   ],
   "source": [
    "preds = list(predictions)\n",
    "for i in range(len(preds)):\n",
    "    if preds[i]['class_ids'][0]:\n",
    "        test.at[i, 'Survived'] = 1\n",
    "    else:\n",
    "        test.at[i, 'Survived'] = 0"
   ]
  },
  {
   "cell_type": "code",
   "execution_count": 9,
   "metadata": {},
   "outputs": [],
   "source": [
    "test_to_submit = pd.read_csv('test.csv')\n",
    "test_to_submit['Survived'] = test['Survived'].astype('int')\n",
    "test_to_submit = test_to_submit[['PassengerId', 'Survived']]"
   ]
  },
  {
   "cell_type": "code",
   "execution_count": 10,
   "metadata": {},
   "outputs": [],
   "source": [
    "test_to_submit.to_csv('submission_15.csv', index=False)"
   ]
  },
  {
   "cell_type": "code",
   "execution_count": null,
   "metadata": {},
   "outputs": [],
   "source": [
    "test_to_submit"
   ]
  }
 ],
 "metadata": {
  "kernelspec": {
   "display_name": "Python 3",
   "language": "python",
   "name": "python3"
  },
  "language_info": {
   "codemirror_mode": {
    "name": "ipython",
    "version": 3
   },
   "file_extension": ".py",
   "mimetype": "text/x-python",
   "name": "python",
   "nbconvert_exporter": "python",
   "pygments_lexer": "ipython3",
   "version": "3.6.7"
  }
 },
 "nbformat": 4,
 "nbformat_minor": 2
}
